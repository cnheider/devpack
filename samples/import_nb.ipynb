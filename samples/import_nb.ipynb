{
 "cells": [
  {
   "cell_type": "code",
   "execution_count": 1,
   "metadata": {
    "tags": []
   },
   "outputs": [
    {
     "name": "stdout",
     "output_type": "stream",
     "text": [
      "1.0.0\n",
      "1.0.1\n",
      "0.6.4\n"
     ]
    }
   ],
   "source": [
    "import apppath\n",
    "import warg\n",
    "import draugr\n",
    "\n",
    "print(warg.__version__)\n",
    "print(draugr.__version__)\n",
    "print(apppath.__version__)"
   ]
  },
  {
   "cell_type": "code",
   "execution_count": null,
   "metadata": {},
   "outputs": [],
   "source": []
  }
 ],
 "metadata": {
  "kernelspec": {
   "display_name": "Python 3.8.12 ('py38')",
   "language": "python",
   "name": "python3"
  },
  "language_info": {
   "codemirror_mode": {
    "name": "ipython",
    "version": 3
   },
   "file_extension": ".py",
   "mimetype": "text/x-python",
   "name": "python",
   "nbconvert_exporter": "python",
   "pygments_lexer": "ipython3",
   "version": "3.8.12"
  },
  "orig_nbformat": 2,
  "vscode": {
   "interpreter": {
    "hash": "eac6016bd5939fde862cdcb9c2259be2907398466537f7bf3aa1adcc26aa3444"
   }
  }
 },
 "nbformat": 4,
 "nbformat_minor": 2
}
